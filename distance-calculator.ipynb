{
 "cells": [
  {
   "cell_type": "code",
   "execution_count": 22,
   "metadata": {},
   "outputs": [],
   "source": [
    "def calculate_distance():\n",
    "    print('\\nWelcome to the Distance Calculator')\n",
    "    print('\\n===================================')\n",
    "    print('\\nUsing this function you can calculate the distance of two points P1 and P2 in two ways:')\n",
    "    print('\\na. Euclidean Distance - The square root of the sum of the squares of the differences of the coordinates')\n",
    "    print('\\nb. Manhatan Distance - The sum of the absolute values of the differences of the coordinates\\n')\n",
    "    \n",
    "    \n",
    "    \n",
    "    x1, y1 = input('\\nEnter the coordinates of Point 1 as two positive numbers separated by space x1 y1 :  ').split()\n",
    "    x2, y2 = input('\\nEnter the coordinates of Point 2 as two positive numbers separated by space x2 y2 :  ').split()\n",
    "    method = input('\\nSelect method of calculation: (E) for Euclidean or (M) for Manhatan: E/M? ')\n",
    "\n",
    "    try:\n",
    "        x1 = float(x1)\n",
    "        y1 = float(y1)\n",
    "        x2 = float(x2)\n",
    "        y2 = float(y2)\n",
    "        if x1 <= 0 or x2 <= 0 or y1 <= 0 or y2 <= 0:  # if not a positive int print message and ask for input again\n",
    "            print(\"The numbers entered must be positive, please try again!\")\n",
    "        elif method == \"E\":\n",
    "            eu = ((abs(x2-x1)**2)+(abs(y2-y1)**2))**0.5\n",
    "            print('\\n\\nThe Eucledean distance is ',round(eu,4))\n",
    "        elif method == \"M\":\n",
    "            mh = abs(x2-x1) + abs(y2-y1)\n",
    "            print('\\nThe Manhatan distance is ',mh)\n",
    "        else:\n",
    "            print(\"The Method entered is not supported. Please type 'E' for Euclidean method or 'M' for Manhatan method\")            \n",
    "    except ValueError:\n",
    "        print('\\n\\n One of the inputs is not valid, please try again!')\n",
    "    \n",
    "    "
   ]
  },
  {
   "cell_type": "code",
   "execution_count": 28,
   "metadata": {},
   "outputs": [
    {
     "name": "stdout",
     "output_type": "stream",
     "text": [
      "\n",
      "Welcome to the Distance Calculator\n",
      "\n",
      "===================================\n",
      "\n",
      "Using this function you can calculate the distance of two points P1 and P2 in two ways:\n",
      "\n",
      "a. Euclidean Distance - The square root of the sum of the squares of the differences of the coordinates\n",
      "\n",
      "b. Manhatan Distance - The sum of the absolute values of the differences of the coordinates\n",
      "\n",
      "\n",
      "Enter the coordinates of Point 1 as two positive numbers separated by space x1 y1 :  3 6\n",
      "\n",
      "Enter the coordinates of Point 2 as two positive numbers separated by space x2 y2 :  2 -4\n",
      "\n",
      "Select method of calculation: (E) for Euclidean or (M) for Manhatan: E/M? E\n",
      "The numbers entered must be positive, please try again!\n"
     ]
    }
   ],
   "source": [
    "calculate_distance()"
   ]
  },
  {
   "cell_type": "code",
   "execution_count": null,
   "metadata": {},
   "outputs": [],
   "source": []
  }
 ],
 "metadata": {
  "kernelspec": {
   "display_name": "Python 3",
   "language": "python",
   "name": "python3"
  },
  "language_info": {
   "codemirror_mode": {
    "name": "ipython",
    "version": 3
   },
   "file_extension": ".py",
   "mimetype": "text/x-python",
   "name": "python",
   "nbconvert_exporter": "python",
   "pygments_lexer": "ipython3",
   "version": "3.7.6"
  }
 },
 "nbformat": 4,
 "nbformat_minor": 4
}
