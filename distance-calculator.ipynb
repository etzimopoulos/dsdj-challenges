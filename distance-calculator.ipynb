{
 "cells": [
  {
   "cell_type": "code",
   "execution_count": 1,
   "metadata": {},
   "outputs": [],
   "source": [
    "import math"
   ]
  },
  {
   "cell_type": "code",
   "execution_count": 2,
   "metadata": {},
   "outputs": [],
   "source": [
    "def calculate_distance():\n",
    "    print('\\nWelcome to the Distance Calculator')\n",
    "    print('\\n===================================')\n",
    "    print('\\nUsing this function you can calculate the distance of two points P1 and P2 in two ways:')\n",
    "    print('\\na. Eucledean Distance - The square root of the sum of the squares of the differences of the coordinates')\n",
    "    print('\\nb. Manhatan Distance - The sum of the absolute values of the differences of the coordinates\\n')\n",
    "    \n",
    "    while True:\n",
    "        try:\n",
    "            x1, y1 = input('\\nEnter the coordinates of Point 1 (x1,y1) as two positive numbers separated by space:').split()\n",
    "            x2, y2 = input('\\nEnter the coordinates of Point 2 (x2,y2) as two positive numbers separated by space:').split()\n",
    "            x1 = float(x1)\n",
    "            y1 = float(y1)\n",
    "            x2 = float(x2)\n",
    "            y2 = float(y2)\n",
    "            if x1 <= 0 or x2 <= 0 or y1 <= 0 or y2 <= 0:  # if not a positive int print message and ask for input again\n",
    "                print(\"The numbers entered must be positive, please try again!\")\n",
    "                continue\n",
    "            break\n",
    "        except ValueError:\n",
    "            print(\"One or more of the inputs is not a number, please try again!\")   \n",
    "    \n",
    "    eu = math.sqrt((abs(x2-x1)**2)+(abs(y2-y1)**2))\n",
    "    mh = abs(x2-x1) + abs(y2-y1)\n",
    "    \n",
    "    print('\\n\\nThe Eucledean distance is ',round(eu,4))\n",
    "    print('\\nThe Manhatan distance is ',mh)\n",
    "    "
   ]
  },
  {
   "cell_type": "code",
   "execution_count": 3,
   "metadata": {},
   "outputs": [
    {
     "name": "stdout",
     "output_type": "stream",
     "text": [
      "\n",
      "Welcome to the Distance Calculator\n",
      "\n",
      "===================================\n",
      "\n",
      "Using this function you can calculate the distance of two points P1 and P2 in two ways:\n",
      "\n",
      "a. Eucledean Distance - The square root of the sum of the squares of the differences of the coordinates\n",
      "\n",
      "b. Manhatan Distance - The sum of the absolute values of the differences of the coordinates\n",
      "\n",
      "\n",
      "Enter the coordinates of Point 1 (x1,y1) as two positive numbers separated by space:4 25\n",
      "\n",
      "Enter the coordinates of Point 2 (x2,y2) as two positive numbers separated by space:34 112\n",
      "\n",
      "\n",
      "The Eucledean distance is  92.0272\n",
      "\n",
      "The Manhatan distance is  117.0\n"
     ]
    }
   ],
   "source": [
    "calculate_distance()"
   ]
  }
 ],
 "metadata": {
  "kernelspec": {
   "display_name": "Python 3",
   "language": "python",
   "name": "python3"
  },
  "language_info": {
   "codemirror_mode": {
    "name": "ipython",
    "version": 3
   },
   "file_extension": ".py",
   "mimetype": "text/x-python",
   "name": "python",
   "nbconvert_exporter": "python",
   "pygments_lexer": "ipython3",
   "version": "3.7.6"
  }
 },
 "nbformat": 4,
 "nbformat_minor": 4
}
